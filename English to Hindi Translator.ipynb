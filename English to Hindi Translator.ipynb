{
 "cells": [
  {
   "cell_type": "markdown",
   "id": "4c97bb70",
   "metadata": {},
   "source": [
    "### English to Hindi Translation using Transformers "
   ]
  },
  {
   "cell_type": "markdown",
   "id": "1b41c5e3",
   "metadata": {},
   "source": [
    "Abstract: \n",
    "In our project aimed at translating English literature into Hindi using transformers, we delved into the intricacies of this state-of-the-art architecture. Transformers revolutionize natural language processing through their self-attention mechanism, enabling better understanding of long-range dependencies crucial for tasks like translation. Comprising encoder and decoder components, transformers process input text, generate hidden representations, and produce translated outputs. Positional encoding preserves sequence order, essential in a non-sequential architecture. Training on English-Hindi sentence pairs refined our model's ability to capture language nuances. This project deepened our grasp of encoder-decoder architecture, self-attention, positional encoding, and the transformative potential of transformers in machine learning endeavors."
   ]
  },
  {
   "cell_type": "markdown",
   "id": "35974013",
   "metadata": {},
   "source": [
    "#### We shall import the necessary libraries now, we will be using tensorflow for some heavy lifting."
   ]
  },
  {
   "cell_type": "code",
   "execution_count": 1,
   "id": "a3bcf78e",
   "metadata": {},
   "outputs": [],
   "source": [
    "import numpy as np\n",
    "import matplotlib.pyplot as plt\n",
    "import seaborn as sns\n",
    "import pandas as pd\n",
    "from collections import defaultdict\n",
    "import string\n",
    "import tensorflow as tf\n",
    "import re\n",
    "import os\n",
    "import time\n",
    "from tensorflow import keras\n",
    "from tensorflow.keras.layers import Dense, Input\n",
    "from tensorflow.keras.optimizers import Adam\n",
    "from tensorflow.keras.models import Model\n",
    "from tensorflow.keras.callbacks import ModelCheckpoint\n",
    "from sklearn.preprocessing import OneHotEncoder\n",
    "from sklearn.model_selection import train_test_split"
   ]
  },
  {
   "cell_type": "code",
   "execution_count": 2,
   "id": "6d6f2bef",
   "metadata": {},
   "outputs": [],
   "source": [
    "ENCODER_LEN = 100\n",
    "DECODER_LEN = 100\n",
    "BATCH_SIZE = 64\n",
    "BUFFER_SIZE = BATCH_SIZE*4"
   ]
  },
  {
   "cell_type": "markdown",
   "id": "df9b3d32",
   "metadata": {},
   "source": [
    "Constants crucial for training a machine translation model, likely using an architecture such as a transformer\n",
    "\n",
    "Let us see what the data looks like"
   ]
  },
  {
   "cell_type": "code",
   "execution_count": 3,
   "id": "bb388c07",
   "metadata": {},
   "outputs": [
    {
     "data": {
      "text/html": [
       "<div>\n",
       "<style scoped>\n",
       "    .dataframe tbody tr th:only-of-type {\n",
       "        vertical-align: middle;\n",
       "    }\n",
       "\n",
       "    .dataframe tbody tr th {\n",
       "        vertical-align: top;\n",
       "    }\n",
       "\n",
       "    .dataframe thead th {\n",
       "        text-align: right;\n",
       "    }\n",
       "</style>\n",
       "<table border=\"1\" class=\"dataframe\">\n",
       "  <thead>\n",
       "    <tr style=\"text-align: right;\">\n",
       "      <th></th>\n",
       "      <th>english_sentence</th>\n",
       "      <th>hindi_sentence</th>\n",
       "    </tr>\n",
       "  </thead>\n",
       "  <tbody>\n",
       "    <tr>\n",
       "      <th>63241</th>\n",
       "      <td>Indian News Service - National News Agency</td>\n",
       "      <td>इण्डियन न्यूज सर्विस - राष्ट्रीय समाचार एजेंसी</td>\n",
       "    </tr>\n",
       "    <tr>\n",
       "      <th>81404</th>\n",
       "      <td>In West Bengal , it seems set to eat humble pi...</td>\n",
       "      <td>पश्चिम बंगाल में तो वह अपमान का घूंट पीने को भ...</td>\n",
       "    </tr>\n",
       "    <tr>\n",
       "      <th>8803</th>\n",
       "      <td>One american dollar is equal to 60 pakistani r...</td>\n",
       "      <td>एक अमरीकी डालर की कीमत लगभग ६० पाकिस्तानी रुपय...</td>\n",
       "    </tr>\n",
       "    <tr>\n",
       "      <th>73434</th>\n",
       "      <td>but between those high highs,</td>\n",
       "      <td>लेकिन इन बेहतरीन लम्हों के बीच</td>\n",
       "    </tr>\n",
       "    <tr>\n",
       "      <th>65711</th>\n",
       "      <td>Every other politician went along because when...</td>\n",
       "      <td>और वजह यह थी कि आर्थिक मामलं पर हमेशा विफल विच...</td>\n",
       "    </tr>\n",
       "  </tbody>\n",
       "</table>\n",
       "</div>"
      ],
      "text/plain": [
       "                                        english_sentence  \\\n",
       "63241         Indian News Service - National News Agency   \n",
       "81404  In West Bengal , it seems set to eat humble pi...   \n",
       "8803   One american dollar is equal to 60 pakistani r...   \n",
       "73434                      but between those high highs,   \n",
       "65711  Every other politician went along because when...   \n",
       "\n",
       "                                          hindi_sentence  \n",
       "63241     इण्डियन न्यूज सर्विस - राष्ट्रीय समाचार एजेंसी  \n",
       "81404  पश्चिम बंगाल में तो वह अपमान का घूंट पीने को भ...  \n",
       "8803   एक अमरीकी डालर की कीमत लगभग ६० पाकिस्तानी रुपय...  \n",
       "73434                     लेकिन इन बेहतरीन लम्हों के बीच  \n",
       "65711  और वजह यह थी कि आर्थिक मामलं पर हमेशा विफल विच...  "
      ]
     },
     "execution_count": 3,
     "metadata": {},
     "output_type": "execute_result"
    }
   ],
   "source": [
    "train_df = pd.read_csv(\"/Users/meghnahavalgi/Desktop/Neural Modelling/Hindi_English_Truncated_Corpus.csv\")\n",
    "train_df.drop(['source'],axis=1,inplace=True)\n",
    "mask = (train_df['english_sentence'].str.len()>20) & (train_df['english_sentence'].str.len()<200)\n",
    "train_df = train_df.loc[mask]\n",
    "train_df = train_df.sample(64000, random_state=1)\n",
    "train_df.head()"
   ]
  },
  {
   "cell_type": "code",
   "execution_count": 4,
   "id": "2a858326",
   "metadata": {},
   "outputs": [],
   "source": [
    "pd.set_option('display.max_colwidth', None)"
   ]
  },
  {
   "cell_type": "code",
   "execution_count": 5,
   "id": "85ec4e9e",
   "metadata": {},
   "outputs": [],
   "source": [
    "eng = train_df['english_sentence']\n",
    "hind = train_df['hindi_sentence']\n",
    "eng = eng.apply(lambda x: \"<SOS> \" + str(x) + \" <EOS>\")\n",
    "hind = hind.apply(lambda x: \"<SOS> \"+ x + \" <EOS>\")"
   ]
  },
  {
   "cell_type": "code",
   "execution_count": 6,
   "id": "44a7e95e",
   "metadata": {},
   "outputs": [],
   "source": [
    "filters = '!\"#$%&()*+,-./:;=?@[\\\\]^_`{|}~\\t\\n'\n",
    "oov_token = '<unk>'\n",
    "eng_tokenizer = tf.keras.preprocessing.text.Tokenizer(filters = filters, oov_token=oov_token)\n",
    "hind_tokenizer = tf.keras.preprocessing.text.Tokenizer(filters = filters, oov_token=oov_token)\n",
    "eng_tokenizer.fit_on_texts(eng)\n",
    "hind_tokenizer.fit_on_texts(hind)\n",
    "inputs = eng_tokenizer.texts_to_sequences(eng)\n",
    "targets = hind_tokenizer.texts_to_sequences(hind)"
   ]
  },
  {
   "cell_type": "markdown",
   "id": "c1482712",
   "metadata": {},
   "source": [
    "We preprocess the input English and Hindi texts, tokenize them, and convert them into sequences of word indices for further processing in the machine translation model."
   ]
  },
  {
   "cell_type": "code",
   "execution_count": 7,
   "id": "b7187583",
   "metadata": {},
   "outputs": [
    {
     "name": "stdout",
     "output_type": "stream",
     "text": [
      "44305 51960\n"
     ]
    }
   ],
   "source": [
    "ENCODER_VOCAB = len(eng_tokenizer.word_index) + 1\n",
    "DECODER_VOCAB = len(hind_tokenizer.word_index) + 1\n",
    "print(ENCODER_VOCAB, DECODER_VOCAB)"
   ]
  },
  {
   "cell_type": "code",
   "execution_count": 8,
   "id": "0e73cff0",
   "metadata": {},
   "outputs": [],
   "source": [
    "inputs = tf.keras.preprocessing.sequence.pad_sequences(inputs, maxlen=ENCODER_LEN, padding='post', truncating='post')\n",
    "targets = tf.keras.preprocessing.sequence.pad_sequences(targets, maxlen=DECODER_LEN, padding='post', truncating='post')\n",
    "inputs = tf.cast(inputs, dtype=tf.int64)\n",
    "targets = tf.cast(targets, dtype=tf.int64)"
   ]
  },
  {
   "cell_type": "markdown",
   "id": "4db51ad2",
   "metadata": {},
   "source": [
    "These preprocessing steps standardize the lengths of input and target sequences, making them suitable for training the machine translation model. Padding ensures that shorter sequences match the maximum sequence length, while truncating ensures longer sequences are trimmed to fit within the specified length constraints. Finally, casting the sequences to integers prepares them for consumption by the TensorFlow model."
   ]
  },
  {
   "cell_type": "code",
   "execution_count": 9,
   "id": "ee802f9a",
   "metadata": {},
   "outputs": [],
   "source": [
    "dataset = tf.data.Dataset.from_tensor_slices((inputs, targets)).shuffle(BUFFER_SIZE).batch(BATCH_SIZE)"
   ]
  },
  {
   "cell_type": "code",
   "execution_count": 10,
   "id": "8d8fcdf7",
   "metadata": {},
   "outputs": [],
   "source": [
    "def get_angles(position, i, d_model):\n",
    "    angle_rates = 1 / np.power(10000, (2 * (i // 2)) / np.float32(d_model))\n",
    "    return position * angle_rates\n",
    "\n",
    "def positional_encoding(position, d_model):\n",
    "    angle_rads = get_angles(\n",
    "        np.arange(position)[:, np.newaxis],\n",
    "        np.arange(d_model)[np.newaxis, :],\n",
    "        d_model\n",
    "    )\n",
    "\n",
    "    angle_rads[:, 0::2] = np.sin(angle_rads[:, 0::2])\n",
    "\n",
    "    angle_rads[:, 1::2] = np.cos(angle_rads[:, 1::2])\n",
    "\n",
    "    pos_encoding = angle_rads[np.newaxis, ...]\n",
    "\n",
    "    return tf.cast(pos_encoding, dtype=tf.float32)\n",
    "\n",
    "def create_padding_mask(seq):\n",
    "    seq = tf.cast(tf.math.equal(seq, 0), tf.float32)\n",
    "    return seq[:, tf.newaxis, tf.newaxis, :]\n",
    "\n",
    "def create_look_ahead_mask(size):\n",
    "    mask = 1 - tf.linalg.band_part(tf.ones((size, size)), -1, 0)\n",
    "    return mask\n",
    "\n",
    "def scaled_dot_product_attention(q, k, v, mask):\n",
    "    matmul_qk = tf.matmul(q, k, transpose_b=True)\n",
    "\n",
    "    dk = tf.cast(tf.shape(k)[-1], tf.float32)\n",
    "    scaled_attention_logits = matmul_qk / tf.math.sqrt(dk)\n",
    "\n",
    "    if mask is not None:\n",
    "        scaled_attention_logits += (mask * -1e9)  \n",
    "\n",
    "    attention_weights = tf.nn.softmax(scaled_attention_logits, axis=-1)\n",
    "\n",
    "    output = tf.matmul(attention_weights, v)\n",
    "    return output, attention_weights\n"
   ]
  },
  {
   "cell_type": "markdown",
   "id": "2cf4aa70",
   "metadata": {},
   "source": [
    "Following are the important functions and their brief describtion of them, why is it important is also something that we need to think of,\n",
    "- get_angles(position, i, d_model) : Calculates the angles used in positional encoding.\n",
    "- positional_encoding(position, d_model) : Computes the positional encoding matrix for a given position and model dimension\n",
    "- create_padding_mask(seq) : Creates a mask to mark padding tokens in a sequence.\n",
    "- create_look_ahead_mask(size) ; Creates a mask to prevent attention scores from considering future tokens.\n",
    "- scaled_dot_product_attention(q, k, v, mask) - Computes scaled dot-product attention."
   ]
  },
  {
   "cell_type": "code",
   "execution_count": 11,
   "id": "245c1522",
   "metadata": {},
   "outputs": [],
   "source": [
    "class MultiHeadAttention(tf.keras.layers.Layer):\n",
    "    def __init__(self, d_model, num_heads):\n",
    "        super(MultiHeadAttention, self).__init__()\n",
    "        self.num_heads = num_heads\n",
    "        self.d_model = d_model\n",
    "\n",
    "        assert d_model % self.num_heads == 0\n",
    "\n",
    "        self.depth = d_model // self.num_heads\n",
    "\n",
    "        self.wq = tf.keras.layers.Dense(d_model)\n",
    "        self.wk = tf.keras.layers.Dense(d_model)\n",
    "        self.wv = tf.keras.layers.Dense(d_model)\n",
    "\n",
    "        self.dense = tf.keras.layers.Dense(d_model)\n",
    "        \n",
    "    def split_heads(self, x, batch_size):\n",
    "        x = tf.reshape(x, (batch_size, -1, self.num_heads, self.depth))\n",
    "        return tf.transpose(x, perm=[0, 2, 1, 3])\n",
    "    \n",
    "    def call(self, v, k, q, mask):\n",
    "        batch_size = tf.shape(q)[0]\n",
    "\n",
    "        q = self.wq(q)\n",
    "        k = self.wk(k)\n",
    "        v = self.wv(v)\n",
    "\n",
    "        q = self.split_heads(q, batch_size)\n",
    "        k = self.split_heads(k, batch_size)\n",
    "        v = self.split_heads(v, batch_size)\n",
    "\n",
    "        scaled_attention, attention_weights = scaled_dot_product_attention(\n",
    "            q, k, v, mask)\n",
    "\n",
    "        scaled_attention = tf.transpose(scaled_attention, perm=[0, 2, 1, 3])\n",
    "        \n",
    "        concat_attention = tf.reshape(scaled_attention, (batch_size, -1, self.d_model))\n",
    "        output = self.dense(concat_attention)\n",
    "            \n",
    "        return output, attention_weights\n",
    "    \n",
    "def point_wise_feed_forward_network(d_model, dff):\n",
    "    return tf.keras.Sequential([\n",
    "        tf.keras.layers.Dense(dff, activation='relu'),\n",
    "        tf.keras.layers.Dense(d_model)\n",
    "    ])"
   ]
  },
  {
   "cell_type": "markdown",
   "id": "8dafc079",
   "metadata": {},
   "source": [
    "These components are fundamental building blocks of the transformer model. The multi-head attention mechanism enables the model to focus on different parts of the input sequence simultaneously, while the point-wise feed-forward network introduces non-linearity and enhances the model's expressiveness, crucial for capturing complex patterns in the data."
   ]
  },
  {
   "cell_type": "markdown",
   "id": "94ff55eb",
   "metadata": {},
   "source": [
    "#### Whats Encoder and Decoder ? \n",
    "Encoders and Decoders are the backbone of tranformers.\n",
    "\n",
    "In my understanding, encoder processes the input sequence to create a contextual representation that captures the relevant information for the task at hand and Decoder takes the contextual representation generated by the encoder and uses it to generate the output sequence.\n",
    "\n"
   ]
  },
  {
   "cell_type": "code",
   "execution_count": 12,
   "id": "a79c83ee",
   "metadata": {},
   "outputs": [],
   "source": [
    "class EncoderLayer(tf.keras.layers.Layer):\n",
    "    def __init__(self, d_model, num_heads, dff, rate=0.1):\n",
    "        super(EncoderLayer, self).__init__()\n",
    "\n",
    "        self.mha = MultiHeadAttention(d_model, num_heads)\n",
    "        self.ffn = point_wise_feed_forward_network(d_model, dff)\n",
    "\n",
    "        self.layernorm1 = tf.keras.layers.LayerNormalization(epsilon=1e-6)\n",
    "        self.layernorm2 = tf.keras.layers.LayerNormalization(epsilon=1e-6)\n",
    "\n",
    "        self.dropout1 = tf.keras.layers.Dropout(rate)\n",
    "        self.dropout2 = tf.keras.layers.Dropout(rate)\n",
    "    \n",
    "    def call(self, x, training, mask):\n",
    "        attn_output, _ = self.mha(x, x, x, mask)\n",
    "        attn_output = self.dropout1(attn_output, training=training)\n",
    "        out1 = self.layernorm1(x + attn_output)\n",
    "\n",
    "        ffn_output = self.ffn(out1)\n",
    "        ffn_output = self.dropout2(ffn_output, training=training)\n",
    "        out2 = self.layernorm2(out1 + ffn_output)\n",
    "\n",
    "        return out2"
   ]
  },
  {
   "cell_type": "markdown",
   "id": "f4484484",
   "metadata": {},
   "source": [
    "self-attention (MultiHeadAttention) and feed-forward network (point_wise_feed_forward_network) layers are applied to the input sequence.\n",
    "self-attention helps the encoder understand the relationships between different words in the input sequence.\n",
    "The feed-forward network introduces non-linearity and enhances the model's expressiveness.\n",
    "\n",
    "\n"
   ]
  },
  {
   "cell_type": "code",
   "execution_count": 13,
   "id": "e78ddeed",
   "metadata": {},
   "outputs": [],
   "source": [
    "class DecoderLayer(tf.keras.layers.Layer):\n",
    "    def __init__(self, d_model, num_heads, dff, rate=0.1):\n",
    "        super(DecoderLayer, self).__init__()\n",
    "\n",
    "        self.mha1 = MultiHeadAttention(d_model, num_heads)\n",
    "        self.mha2 = MultiHeadAttention(d_model, num_heads)\n",
    "\n",
    "        self.ffn = point_wise_feed_forward_network(d_model, dff)\n",
    "\n",
    "        self.layernorm1 = tf.keras.layers.LayerNormalization(epsilon=1e-6)\n",
    "        self.layernorm2 = tf.keras.layers.LayerNormalization(epsilon=1e-6)\n",
    "        self.layernorm3 = tf.keras.layers.LayerNormalization(epsilon=1e-6)\n",
    "\n",
    "        self.dropout1 = tf.keras.layers.Dropout(rate)\n",
    "        self.dropout2 = tf.keras.layers.Dropout(rate)\n",
    "        self.dropout3 = tf.keras.layers.Dropout(rate)\n",
    "    \n",
    "    \n",
    "    def call(self, x, enc_output, training, look_ahead_mask, padding_mask):\n",
    "        attn1, attn_weights_block1 = self.mha1(x, x, x, look_ahead_mask)\n",
    "        attn1 = self.dropout1(attn1, training=training)\n",
    "        out1 = self.layernorm1(attn1 + x)\n",
    "\n",
    "        attn2, attn_weights_block2 = self.mha2(enc_output, enc_output, out1, padding_mask)\n",
    "        attn2 = self.dropout2(attn2, training=training)\n",
    "        out2 = self.layernorm2(attn2 + out1)\n",
    "\n",
    "        ffn_output = self.ffn(out2)\n",
    "        ffn_output = self.dropout3(ffn_output, training=training)\n",
    "        out3 = self.layernorm3(ffn_output + out2)\n",
    "\n",
    "        return out3, attn_weights_block1, attn_weights_block2"
   ]
  },
  {
   "cell_type": "markdown",
   "id": "31d58bb4",
   "metadata": {},
   "source": [
    "decoder also consists of self-attention mechanisms (mha1 and mha2) and a feed-forward network (ffn).\n",
    "The first self-attention mechanism (mha1) helps the decoder focus on relevant parts of the input sequence during the decoding process.\n",
    "The second self-attention mechanism (mha2) allows the decoder to attend to both the input sequence and its own generated output, facilitating the generation of coherent and contextually relevant translations.\n",
    "\n",
    "\n",
    "We repeat introducing encoder and decoder to make the model much more familier with the input data."
   ]
  },
  {
   "cell_type": "code",
   "execution_count": 19,
   "id": "485f0728",
   "metadata": {},
   "outputs": [],
   "source": [
    "class Encoder(tf.keras.layers.Layer):\n",
    "    def __init__(self, num_layers, d_model, num_heads, dff, input_vocab_size, maximum_position_encoding, rate=0.1):\n",
    "        super(Encoder, self).__init__()\n",
    "\n",
    "        self.d_model = d_model\n",
    "        self.num_layers = num_layers\n",
    "\n",
    "        self.embedding = tf.keras.layers.Embedding(input_vocab_size, d_model)\n",
    "        self.pos_encoding = positional_encoding(maximum_position_encoding, self.d_model)\n",
    "\n",
    "        self.enc_layers = [EncoderLayer(d_model, num_heads, dff, rate) for _ in range(num_layers)]\n",
    "\n",
    "        self.dropout = tf.keras.layers.Dropout(rate)\n",
    "        \n",
    "    def call(self, x, training, mask):\n",
    "        seq_len = tf.shape(x)[1]\n",
    "        \n",
    "        x = self.embedding(x)\n",
    "        x *= tf.math.sqrt(tf.cast(self.d_model, tf.float32))\n",
    "        x += self.pos_encoding[:, :seq_len, :]\n",
    "\n",
    "        x = self.dropout(x, training=training)\n",
    "    \n",
    "        for i in range(self.num_layers):\n",
    "            x = self.enc_layers[i](x, training, mask)\n",
    "    \n",
    "        return x\n",
    "    \n",
    "class Decoder(tf.keras.layers.Layer):\n",
    "        \n",
    "    def __init__(self, num_layers, d_model, num_heads, dff, target_vocab_size, maximum_position_encoding, rate=0.1):\n",
    "        super(Decoder, self).__init__()\n",
    "\n",
    "        self.d_model = d_model\n",
    "        self.num_layers = num_layers\n",
    "\n",
    "        self.embedding = tf.keras.layers.Embedding(target_vocab_size, d_model)\n",
    "        self.pos_encoding = positional_encoding(maximum_position_encoding, d_model)\n",
    "\n",
    "        self.dec_layers = [DecoderLayer(d_model, num_heads, dff, rate) for _ in range(num_layers)]\n",
    "        self.dropout = tf.keras.layers.Dropout(rate)\n",
    "    \n",
    "    def call(self, x, enc_output, training, look_ahead_mask, padding_mask):\n",
    "        seq_len = tf.shape(x)[1]\n",
    "        attention_weights = {}\n",
    "\n",
    "        x = self.embedding(x)\n",
    "        x *= tf.math.sqrt(tf.cast(self.d_model, tf.float32))\n",
    "        x += self.pos_encoding[:, :seq_len, :]\n",
    "\n",
    "        x = self.dropout(x, training=training)\n",
    "\n",
    "        for i in range(self.num_layers):\n",
    "            x, block1, block2 = self.dec_layers[i](x, enc_output, training, look_ahead_mask, padding_mask)\n",
    "\n",
    "            attention_weights['decoder_layer{}_block1'.format(i+1)] = block1\n",
    "            attention_weights['decoder_layer{}_block2'.format(i+1)] = block2\n",
    "    \n",
    "        return x, attention_weights\n",
    "    "
   ]
  },
  {
   "cell_type": "code",
   "execution_count": 15,
   "id": "463b7bb6",
   "metadata": {},
   "outputs": [],
   "source": [
    "class Transformer(tf.keras.Model):\n",
    "    def __init__(self, num_layers, d_model, num_heads, dff, input_vocab_size, target_vocab_size, pe_input, pe_target, rate=0.1):\n",
    "        super(Transformer, self).__init__()\n",
    "\n",
    "        self.encoder = Encoder(num_layers, d_model, num_heads, dff, input_vocab_size, pe_input, rate)\n",
    "\n",
    "        self.decoder = Decoder(num_layers, d_model, num_heads, dff, target_vocab_size, pe_target, rate)\n",
    "\n",
    "        self.final_layer = tf.keras.layers.Dense(target_vocab_size)\n",
    "    \n",
    "    def call(self, inp, tar, training, enc_padding_mask, look_ahead_mask, dec_padding_mask):\n",
    "        enc_output = self.encoder(inp, training, enc_padding_mask)\n",
    "\n",
    "        dec_output, attention_weights = self.decoder(tar, enc_output, training, look_ahead_mask, dec_padding_mask)\n",
    "\n",
    "        final_output = self.final_layer(dec_output)\n",
    "\n",
    "        return final_output, attention_weights"
   ]
  },
  {
   "cell_type": "markdown",
   "id": "b1bfe06e",
   "metadata": {},
   "source": [
    "Transformer class integrates both the encoder and decoder components of the transformer architecture.\n",
    "By combining the encoder (self.encoder) and decoder (self.decoder) within the same class, the model structure is encapsulated, making it easier to manage and manipulate the entire transformer architecture as a single entity.\n",
    "\n",
    "it also includes a final dense layer (self.final_layer) after the decoder.\n",
    "By applying a dense layer, the model learns to produce the probability distribution over the target vocabulary, facilitating the generation of meaningful predictions.\n",
    "\n",
    "call method of the Transformer class implements the forward pass of the transformer model.It returns the final output sequence and attention weights, allowing for both training and inference with the transformer model.\n"
   ]
  },
  {
   "cell_type": "markdown",
   "id": "0b005ab6",
   "metadata": {},
   "source": [
    "Since we have the model architecture set up, lets train the model considering the following parameters."
   ]
  },
  {
   "cell_type": "code",
   "execution_count": 78,
   "id": "58bd3925",
   "metadata": {},
   "outputs": [],
   "source": [
    "num_layers = 4\n",
    "d_model = 128\n",
    "dff = 512\n",
    "num_heads = 8\n",
    "dropout_rate = 0.1\n",
    "EPOCHS = 10"
   ]
  },
  {
   "cell_type": "code",
   "execution_count": 79,
   "id": "d6122b69",
   "metadata": {},
   "outputs": [],
   "source": [
    "class CustomSchedule(tf.keras.optimizers.schedules.LearningRateSchedule):\n",
    "    def __init__(self, d_model, warmup_steps=4000):\n",
    "        super(CustomSchedule, self).__init__()\n",
    "\n",
    "        self.d_model = d_model\n",
    "        self.d_model = tf.cast(self.d_model, tf.float32)\n",
    "\n",
    "        self.warmup_steps = warmup_steps\n",
    "    \n",
    "    def __call__(self, step):\n",
    "        step = tf.cast(step, tf.float32)\n",
    "        arg1 = tf.math.rsqrt(step)\n",
    "        arg2 = step * (self.warmup_steps ** -1.5)\n",
    "\n",
    "        return tf.math.rsqrt(self.d_model) * tf.math.minimum(arg1, arg2)"
   ]
  },
  {
   "cell_type": "code",
   "execution_count": 80,
   "id": "32af1474",
   "metadata": {},
   "outputs": [
    {
     "name": "stderr",
     "output_type": "stream",
     "text": [
      "WARNING:absl:At this time, the v2.11+ optimizer `tf.keras.optimizers.Adam` runs slowly on M1/M2 Macs, please use the legacy Keras optimizer instead, located at `tf.keras.optimizers.legacy.Adam`.\n"
     ]
    }
   ],
   "source": [
    "learning_rate = CustomSchedule(d_model)\n",
    "\n",
    "optimizer = tf.keras.optimizers.Adam(learning_rate, beta_1=0.9, beta_2=0.98, epsilon=1e-9)"
   ]
  },
  {
   "cell_type": "markdown",
   "id": "24a8d8b7",
   "metadata": {},
   "source": [
    "We need a graph visualizes how the learning rate changes over the course of training, providing insights into the optimization process and helping optimize the training hyperparameters for better model performance."
   ]
  },
  {
   "cell_type": "code",
   "execution_count": 81,
   "id": "74c31a3e",
   "metadata": {},
   "outputs": [
    {
     "data": {
      "text/plain": [
       "Text(0.5, 0, 'Train Step')"
      ]
     },
     "execution_count": 81,
     "metadata": {},
     "output_type": "execute_result"
    },
    {
     "data": {
      "image/png": "[encoded data removed]",
      "text/plain": [
       "<Figure size 640x480 with 1 Axes>"
      ]
     },
     "metadata": {},
     "output_type": "display_data"
    }
   ],
   "source": [
    "temp_learning_rate_schedule = CustomSchedule(d_model)\n",
    "\n",
    "plt.plot(temp_learning_rate_schedule(tf.range(40000, dtype=tf.float32)))\n",
    "plt.ylabel(\"Learning Rate\")\n",
    "plt.xlabel(\"Train Step\")"
   ]
  },
  {
   "cell_type": "markdown",
   "id": "3975b6de",
   "metadata": {},
   "source": [
    "we can see at 5000th train step, our learning rate is high."
   ]
  },
  {
   "cell_type": "markdown",
   "id": "d582d02a",
   "metadata": {},
   "source": [
    "Going forward we would want to compute loss computation, accuracy calculation, and checkpoint management to facilitate efficient model training and evaluation."
   ]
  },
  {
   "cell_type": "code",
   "execution_count": 82,
   "id": "b2f95b14",
   "metadata": {},
   "outputs": [],
   "source": [
    "loss_object = tf.keras.losses.SparseCategoricalCrossentropy(from_logits=True, reduction='none')\n",
    "def loss_function(real, pred):\n",
    "    mask = tf.math.logical_not(tf.math.equal(real, 0))\n",
    "    loss_ = loss_object(real, pred)\n",
    "\n",
    "    mask = tf.cast(mask, dtype=loss_.dtype)\n",
    "    loss_ *= mask\n",
    "\n",
    "    return tf.reduce_sum(loss_)/tf.reduce_sum(mask)\n",
    "\n",
    "\n",
    "def accuracy_function(real, pred):\n",
    "    accuracies = tf.equal(real, tf.argmax(pred, axis=2))\n",
    "\n",
    "    mask = tf.math.logical_not(tf.math.equal(real, 0))\n",
    "    accuracies = tf.math.logical_and(mask, accuracies)\n",
    "\n",
    "    accuracies = tf.cast(accuracies, dtype=tf.float32)\n",
    "    mask = tf.cast(mask, dtype=tf.float32)\n",
    "    return tf.reduce_sum(accuracies)/tf.reduce_sum(mask)"
   ]
  },
  {
   "cell_type": "code",
   "execution_count": 83,
   "id": "4274e81a",
   "metadata": {},
   "outputs": [],
   "source": [
    "train_loss = tf.keras.metrics.Mean(name='train_loss')\n",
    "train_accuracy = tf.keras.metrics.Mean(name='train_accuracy')"
   ]
  },
  {
   "cell_type": "code",
   "execution_count": 84,
   "id": "2c10f9de",
   "metadata": {},
   "outputs": [],
   "source": [
    "transformer = Transformer(\n",
    "    num_layers=num_layers,\n",
    "    d_model=d_model,\n",
    "    num_heads=num_heads,\n",
    "    dff=dff,\n",
    "    input_vocab_size=ENCODER_VOCAB,\n",
    "    target_vocab_size=DECODER_VOCAB,\n",
    "    pe_input=1000,\n",
    "    pe_target=1000,\n",
    "    rate=dropout_rate)"
   ]
  },
  {
   "cell_type": "code",
   "execution_count": 85,
   "id": "64df1cd9",
   "metadata": {},
   "outputs": [],
   "source": [
    "def create_masks(inp, tar):\n",
    "    enc_padding_mask = create_padding_mask(inp)\n",
    "    dec_padding_mask = create_padding_mask(inp)\n",
    "\n",
    "    look_ahead_mask = create_look_ahead_mask(tf.shape(tar)[1])\n",
    "    dec_target_padding_mask = create_padding_mask(tar)\n",
    "    combined_mask = tf.maximum(dec_target_padding_mask, look_ahead_mask)\n",
    "  \n",
    "    return enc_padding_mask, combined_mask, dec_padding_mask"
   ]
  },
  {
   "cell_type": "code",
   "execution_count": 86,
   "id": "74b96fb6",
   "metadata": {},
   "outputs": [],
   "source": [
    "checkpoint_path = \"checkpoints\"\n",
    "\n",
    "ckpt = tf.train.Checkpoint(transformer=transformer, optimizer=optimizer)\n",
    "\n",
    "ckpt_manager = tf.train.CheckpointManager(ckpt, checkpoint_path, max_to_keep=5)\n",
    "\n",
    "if ckpt_manager.latest_checkpoint:\n",
    "    ckpt.restore(ckpt_manager.latest_checkpoint)\n",
    "    print ('Latest checkpoint restored!!')"
   ]
  },
  {
   "cell_type": "code",
   "execution_count": 87,
   "id": "064015c9",
   "metadata": {},
   "outputs": [],
   "source": [
    "@tf.function\n",
    "def train_step(inp, tar):\n",
    "    tar_inp = tar[:, :-1]\n",
    "    tar_real = tar[:, 1:]\n",
    "\n",
    "    enc_padding_mask, combined_mask, dec_padding_mask = create_masks(inp, tar_inp)\n",
    "\n",
    "    with tf.GradientTape() as tape:\n",
    "        predictions, _ = transformer(\n",
    "            inp, tar_inp, \n",
    "            True, \n",
    "            enc_padding_mask, \n",
    "            combined_mask, \n",
    "            dec_padding_mask\n",
    "        )\n",
    "        loss = loss_function(tar_real, predictions)\n",
    "\n",
    "    gradients = tape.gradient(loss, transformer.trainable_variables)    \n",
    "    optimizer.apply_gradients(zip(gradients, transformer.trainable_variables))\n",
    "\n",
    "    train_loss(loss)\n",
    "    train_accuracy(accuracy_function(tar_real, predictions))"
   ]
  },
  {
   "cell_type": "markdown",
   "id": "60f6d53d",
   "metadata": {},
   "source": [
    "train_step function encapsulates the entire training process for a single batch of data, including forward pass, loss computation, gradient calculation, parameter updates, and metric tracking, making it a fundamental component of the training loop for the transformer model."
   ]
  },
  {
   "cell_type": "code",
   "execution_count": 88,
   "id": "833cc19e",
   "metadata": {},
   "outputs": [
    {
     "name": "stdout",
     "output_type": "stream",
     "text": [
      "Epoch 1 Batch 0 Loss 10.8595 Accuracy 0.0000\n",
      "Epoch 1 Batch 200 Loss 10.5004 Accuracy 0.0460\n",
      "Epoch 1 Batch 400 Loss 9.6690 Accuracy 0.0534\n",
      "Epoch 1 Batch 600 Loss 8.9343 Accuracy 0.0567\n",
      "Epoch 1 Batch 800 Loss 8.4781 Accuracy 0.0658\n",
      "Epoch 1 Loss 8.1439 Accuracy 0.0757\n",
      "Time taken for 1 epoch: 3506.23331618309 secs\n",
      "\n",
      "Epoch 2 Batch 0 Loss 6.7417 Accuracy 0.0758\n",
      "Epoch 2 Batch 200 Loss 6.6002 Accuracy 0.0848\n",
      "Epoch 2 Batch 400 Loss 6.5222 Accuracy 0.0928\n",
      "Epoch 2 Batch 600 Loss 6.4472 Accuracy 0.0999\n",
      "Epoch 2 Batch 800 Loss 6.3773 Accuracy 0.1063\n",
      "Epoch 2 Loss 6.3140 Accuracy 0.1121\n",
      "Time taken for 1 epoch: 19303.365352869034 secs\n",
      "\n",
      "Epoch 3 Batch 0 Loss 6.0962 Accuracy 0.1121\n",
      "Epoch 3 Batch 200 Loss 5.9493 Accuracy 0.1176\n",
      "Epoch 3 Batch 400 Loss 5.8965 Accuracy 0.1226\n",
      "Epoch 3 Batch 600 Loss 5.8459 Accuracy 0.1276\n",
      "Epoch 3 Batch 800 Loss 5.7982 Accuracy 0.1322\n",
      "Epoch 3 Loss 5.7526 Accuracy 0.1365\n",
      "Time taken for 1 epoch: 14694.372776985168 secs\n",
      "\n",
      "Epoch 4 Batch 0 Loss 5.5772 Accuracy 0.1365\n",
      "Epoch 4 Batch 200 Loss 5.4850 Accuracy 0.1407\n",
      "Epoch 4 Batch 400 Loss 5.4436 Accuracy 0.1446\n",
      "Epoch 4 Batch 600 Loss 5.4013 Accuracy 0.1485\n",
      "Epoch 4 Batch 800 Loss 5.3627 Accuracy 0.1522\n",
      "Epoch 4 Loss 5.3279 Accuracy 0.1557\n",
      "Time taken for 1 epoch: 4020.668342113495 secs\n",
      "\n",
      "Epoch 5 Batch 0 Loss 5.1677 Accuracy 0.1557\n",
      "Epoch 5 Batch 200 Loss 5.1123 Accuracy 0.1592\n",
      "Epoch 5 Batch 400 Loss 5.0657 Accuracy 0.1626\n",
      "Epoch 5 Batch 600 Loss 5.0195 Accuracy 0.1661\n",
      "Epoch 5 Batch 800 Loss 4.9772 Accuracy 0.1695\n",
      "Saving checkpoint for epoch 5 at checkpoints/ckpt-1\n",
      "Epoch 5 Loss 4.9367 Accuracy 0.1729\n",
      "Time taken for 1 epoch: 5901.180130958557 secs\n",
      "\n",
      "Epoch 6 Batch 0 Loss 4.7429 Accuracy 0.1729\n",
      "Epoch 6 Batch 200 Loss 4.6971 Accuracy 0.1764\n",
      "Epoch 6 Batch 400 Loss 4.6676 Accuracy 0.1798\n",
      "Epoch 6 Batch 600 Loss 4.6291 Accuracy 0.1832\n",
      "Epoch 6 Batch 800 Loss 4.5980 Accuracy 0.1865\n",
      "Epoch 6 Loss 4.5676 Accuracy 0.1898\n",
      "Time taken for 1 epoch: 3350.9397959709167 secs\n",
      "\n",
      "Epoch 7 Batch 0 Loss 4.4257 Accuracy 0.1898\n",
      "Epoch 7 Batch 200 Loss 4.3962 Accuracy 0.1932\n",
      "Epoch 7 Batch 400 Loss 4.3719 Accuracy 0.1964\n",
      "Epoch 7 Batch 600 Loss 4.3384 Accuracy 0.1997\n",
      "Epoch 7 Batch 800 Loss 4.3155 Accuracy 0.2029\n",
      "Epoch 7 Loss 4.2934 Accuracy 0.2061\n",
      "Time taken for 1 epoch: 3492.952893972397 secs\n",
      "\n",
      "Epoch 8 Batch 0 Loss 4.2876 Accuracy 0.2061\n",
      "Epoch 8 Batch 200 Loss 4.1585 Accuracy 0.2092\n",
      "Epoch 8 Batch 400 Loss 4.1370 Accuracy 0.2123\n",
      "Epoch 8 Batch 600 Loss 4.1116 Accuracy 0.2155\n",
      "Epoch 8 Batch 800 Loss 4.0954 Accuracy 0.2185\n",
      "Epoch 8 Loss 4.0785 Accuracy 0.2215\n",
      "Time taken for 1 epoch: 4796.367094039917 secs\n",
      "\n",
      "Epoch 9 Batch 0 Loss 4.0830 Accuracy 0.2215\n",
      "Epoch 9 Batch 200 Loss 3.9768 Accuracy 0.2245\n",
      "Epoch 9 Batch 400 Loss 3.9590 Accuracy 0.2274\n",
      "Epoch 9 Batch 600 Loss 3.9385 Accuracy 0.2303\n",
      "Epoch 9 Batch 800 Loss 3.9250 Accuracy 0.2332\n",
      "Epoch 9 Loss 3.9120 Accuracy 0.2360\n",
      "Time taken for 1 epoch: 3492.8956139087677 secs\n",
      "\n",
      "Epoch 10 Batch 0 Loss 4.2075 Accuracy 0.2360\n",
      "Epoch 10 Batch 200 Loss 3.8259 Accuracy 0.2388\n",
      "Epoch 10 Batch 400 Loss 3.8181 Accuracy 0.2414\n",
      "Epoch 10 Batch 600 Loss 3.8006 Accuracy 0.2442\n",
      "Epoch 10 Batch 800 Loss 3.7913 Accuracy 0.2468\n",
      "Saving checkpoint for epoch 10 at checkpoints/ckpt-2\n",
      "Epoch 10 Loss 3.7813 Accuracy 0.2494\n",
      "Time taken for 1 epoch: 4187.6405420303345 secs\n",
      "\n"
     ]
    }
   ],
   "source": [
    "for epoch in range(EPOCHS):\n",
    "    start = time.time()\n",
    "\n",
    "    train_loss.reset_states()\n",
    "  \n",
    "    for (batch, (inp, tar)) in enumerate(dataset):\n",
    "        train_step(inp, tar)\n",
    "    \n",
    "        if batch % 200 == 0:\n",
    "            print(f'Epoch {epoch + 1} Batch {batch} Loss {train_loss.result():.4f} Accuracy {train_accuracy.result():.4f}')\n",
    "      \n",
    "    if (epoch + 1) % 5 == 0:\n",
    "        ckpt_save_path = ckpt_manager.save()\n",
    "        print ('Saving checkpoint for epoch {} at {}'.format(epoch+1, ckpt_save_path))\n",
    "   \n",
    "    print(f'Epoch {epoch + 1} Loss {train_loss.result():.4f} Accuracy {train_accuracy.result():.4f}')\n",
    "    print ('Time taken for 1 epoch: {} secs\\n'.format(time.time() - start))"
   ]
  },
  {
   "cell_type": "markdown",
   "id": "8bf238a3",
   "metadata": {},
   "source": [
    "The training is finally over. Lets evaluate the model and translate some sentences from English to Hindi"
   ]
  },
  {
   "cell_type": "code",
   "execution_count": 89,
   "id": "c85ab1aa",
   "metadata": {},
   "outputs": [],
   "source": [
    "def evaluate(text):\n",
    "    text = eng_tokenizer.texts_to_sequences([text])\n",
    "    text = tf.keras.preprocessing.sequence.pad_sequences(text, maxlen=ENCODER_LEN, \n",
    "                                                                   padding='post', truncating='post')\n",
    "\n",
    "    encoder_input = tf.expand_dims(text[0], 0)\n",
    "\n",
    "    decoder_input = [hind_tokenizer.word_index['<sos>']]\n",
    "    output = tf.expand_dims(decoder_input, 0)\n",
    "    \n",
    "    for i in range(DECODER_LEN):\n",
    "        enc_padding_mask, combined_mask, dec_padding_mask = create_masks(encoder_input, output)\n",
    "\n",
    "        predictions, attention_weights = transformer(\n",
    "            encoder_input, \n",
    "            output,\n",
    "            False,\n",
    "            enc_padding_mask,\n",
    "            combined_mask,\n",
    "            dec_padding_mask\n",
    "        )\n",
    "\n",
    "        predictions = predictions[: ,-1:, :]\n",
    "        predicted_id = tf.cast(tf.argmax(predictions, axis=-1), tf.int32)\n",
    "\n",
    "        if predicted_id == hind_tokenizer.word_index['<eos>']:\n",
    "            return tf.squeeze(output, axis=0), attention_weights\n",
    "\n",
    "        output = tf.concat([output, predicted_id], axis=-1)\n",
    "\n",
    "    return tf.squeeze(output, axis=0), attention_weights"
   ]
  },
  {
   "cell_type": "code",
   "execution_count": 90,
   "id": "afe61cdc",
   "metadata": {},
   "outputs": [],
   "source": [
    "def translate(eng_text):\n",
    "    hind_text = evaluate(text=eng_text)[0].numpy()\n",
    "    hind_text = np.expand_dims(hind_text[1:], 0)  \n",
    "    return hind_tokenizer.sequences_to_texts(hind_text)[0]"
   ]
  },
  {
   "cell_type": "code",
   "execution_count": 99,
   "id": "c354bbad",
   "metadata": {},
   "outputs": [
    {
     "data": {
      "text/plain": [
       "'तो हम इस तरह से देख सकते हैं'"
      ]
     },
     "execution_count": 99,
     "metadata": {},
     "output_type": "execute_result"
    }
   ],
   "source": [
    "translate(\"Let's see if the model can understand this\")"
   ]
  },
  {
   "cell_type": "markdown",
   "id": "a08e17d3",
   "metadata": {},
   "source": [
    "Daymm! That does work."
   ]
  },
  {
   "cell_type": "code",
   "execution_count": 100,
   "id": "5ee2e9f5",
   "metadata": {},
   "outputs": [
    {
     "data": {
      "text/plain": [
       "'हम मेरे पास आधी रात के पानी की परवाह नहीं करते'"
      ]
     },
     "execution_count": 100,
     "metadata": {},
     "output_type": "execute_result"
    }
   ],
   "source": [
    "translate(\"I ate food\")"
   ]
  },
  {
   "cell_type": "code",
   "execution_count": 118,
   "id": "3e993e8c",
   "metadata": {},
   "outputs": [],
   "source": [
    "transformer.save_weights(\"/Users/meghnahavalgi/Desktop/Neural Modelling/Assignment8/transformer10.h5\")"
   ]
  },
  {
   "cell_type": "code",
   "execution_count": 108,
   "id": "3a3b51a9",
   "metadata": {},
   "outputs": [
    {
     "data": {
      "text/plain": [
       "'मेरे पास एक परिवार है'"
      ]
     },
     "execution_count": 108,
     "metadata": {},
     "output_type": "execute_result"
    }
   ],
   "source": [
    "translate(\"There is a cat in my house\")"
   ]
  },
  {
   "cell_type": "code",
   "execution_count": 110,
   "id": "df68b152",
   "metadata": {},
   "outputs": [
    {
     "data": {
      "text/plain": [
       "'और बहुत ही अच्छे से सीखते हैं'"
      ]
     },
     "execution_count": 110,
     "metadata": {},
     "output_type": "execute_result"
    }
   ],
   "source": [
    "translate(\"There is so much to learn\")"
   ]
  },
  {
   "cell_type": "markdown",
   "id": "bd01c9ba",
   "metadata": {},
   "source": [
    "## Conclusion : \n",
    "We have put together a transformer madel to demonstrate translation between two languages by following many steps. Some of the most important learning from this model was,\n",
    "- Encoder - Decoder architecture\n",
    "- concept of why LLM takes long hours to train\n",
    "- Positional encoding\n",
    "- Attention "
   ]
  },
  {
   "cell_type": "code",
   "execution_count": null,
   "id": "4717b31c",
   "metadata": {},
   "outputs": [],
   "source": []
  },
  {
   "cell_type": "code",
   "execution_count": null,
   "id": "df5dc2bd",
   "metadata": {},
   "outputs": [],
   "source": []
  },
  {
   "cell_type": "code",
   "execution_count": null,
   "id": "8645e207",
   "metadata": {},
   "outputs": [],
   "source": []
  },
  {
   "cell_type": "code",
   "execution_count": null,
   "id": "bad0b4dd",
   "metadata": {},
   "outputs": [],
   "source": []
  },
  {
   "cell_type": "code",
   "execution_count": null,
   "id": "410d8e8f",
   "metadata": {},
   "outputs": [],
   "source": []
  },
  {
   "cell_type": "code",
   "execution_count": null,
   "id": "74f1980a",
   "metadata": {},
   "outputs": [],
   "source": []
  },
  {
   "cell_type": "code",
   "execution_count": null,
   "id": "b80dd877",
   "metadata": {},
   "outputs": [],
   "source": []
  },
  {
   "cell_type": "code",
   "execution_count": null,
   "id": "5b7520dd",
   "metadata": {},
   "outputs": [],
   "source": []
  },
  {
   "cell_type": "code",
   "execution_count": null,
   "id": "0931c7c4",
   "metadata": {},
   "outputs": [],
   "source": []
  },
  {
   "cell_type": "code",
   "execution_count": null,
   "id": "1ba344b7",
   "metadata": {},
   "outputs": [],
   "source": []
  },
  {
   "cell_type": "code",
   "execution_count": null,
   "id": "705dad53",
   "metadata": {},
   "outputs": [],
   "source": []
  },
  {
   "cell_type": "code",
   "execution_count": null,
   "id": "dacf4e7d",
   "metadata": {},
   "outputs": [],
   "source": []
  },
  {
   "cell_type": "code",
   "execution_count": null,
   "id": "4a1dbfaf",
   "metadata": {},
   "outputs": [],
   "source": []
  },
  {
   "cell_type": "code",
   "execution_count": null,
   "id": "ecc56a2a",
   "metadata": {},
   "outputs": [],
   "source": []
  }
 ],
 "metadata": {
  "kernelspec": {
   "display_name": "Python 3 (ipykernel)",
   "language": "python",
   "name": "python3"
  },
  "language_info": {
   "codemirror_mode": {
    "name": "ipython",
    "version": 3
   },
   "file_extension": ".py",
   "mimetype": "text/x-python",
   "name": "python",
   "nbconvert_exporter": "python",
   "pygments_lexer": "ipython3",
   "version": "3.11.4"
  }
 },
 "nbformat": 4,
 "nbformat_minor": 5
}
